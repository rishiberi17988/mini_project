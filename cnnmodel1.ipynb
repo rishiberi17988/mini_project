{
 "cells": [
  {
   "cell_type": "code",
   "execution_count": 1,
   "id": "a59b1d17",
   "metadata": {},
   "outputs": [],
   "source": [
    "import numpy as np\n",
    "import tensorflow as tf\n",
    "import pandas as pd \n",
    "from matplotlib import pyplot as plt\n",
    "from tensorflow.keras.preprocessing.image import ImageDataGenerator \n",
    "from tensorflow.keras.preprocessing import image\n",
    "from tensorflow.keras.optimizers import RMSprop\n",
    "from tensorflow.keras import datasets, layers, models\n",
    "import cv2"
   ]
  },
  {
   "cell_type": "code",
   "execution_count": 2,
   "id": "ed66ec77-2ad0-40c6-927c-908af1c1d969",
   "metadata": {},
   "outputs": [
    {
     "data": {
      "text/plain": [
       "(4,)"
      ]
     },
     "execution_count": 2,
     "metadata": {},
     "output_type": "execute_result"
    }
   ],
   "source": [
    "x = np.random.rand(4, 5)\n",
    "\n",
    "y = np.sum(x, axis=1)\n",
    "\n",
    "y.shape"
   ]
  },
  {
   "cell_type": "code",
   "execution_count": 3,
   "id": "d9fe3a7d",
   "metadata": {},
   "outputs": [],
   "source": [
    "train = ImageDataGenerator(rescale= 1/255)\n",
    "validation =ImageDataGenerator (rescale= 1/255)"
   ]
  },
  {
   "cell_type": "code",
   "execution_count": 4,
   "id": "a3ff7884",
   "metadata": {},
   "outputs": [
    {
     "name": "stdout",
     "output_type": "stream",
     "text": [
      "Found 2037 images belonging to 12 classes.\n",
      "Found 720 images belonging to 12 classes.\n"
     ]
    }
   ],
   "source": [
    "x = train.flow_from_directory('testing',\n",
    "                             target_size = (224,224),\n",
    "                             class_mode ='categorical',\n",
    "                             batch_size = 10)\n",
    "x_test = train.flow_from_directory('validation',\n",
    "                             target_size = (224,224),\n",
    "                             class_mode ='categorical',\n",
    "                             batch_size = 10)"
   ]
  },
  {
   "cell_type": "code",
   "execution_count": 14,
   "id": "25d6e9f9",
   "metadata": {},
   "outputs": [],
   "source": [
    "y = x.classes"
   ]
  },
  {
   "cell_type": "code",
   "execution_count": 15,
   "id": "4ed64e93",
   "metadata": {},
   "outputs": [
    {
     "data": {
      "text/plain": [
       "(2037,)"
      ]
     },
     "execution_count": 15,
     "metadata": {},
     "output_type": "execute_result"
    }
   ],
   "source": [
    "y.shape"
   ]
  },
  {
   "cell_type": "code",
   "execution_count": 9,
   "id": "b799bd14",
   "metadata": {},
   "outputs": [],
   "source": [
    "model = tf.keras.models.Sequential([tf.keras.layers.Conv2D(64, (3,3), activation = \"relu\",padding = 'same', input_shape =(224, 224,3)),\n",
    "                                    tf.keras.layers.Conv2D(64, (3,3), activation = \"relu\",padding = 'same'),\n",
    "                                    tf.keras.layers.MaxPool2D(2,2),\n",
    "                                    tf.keras.layers.Conv2D(128, (3,3), activation = \"relu\",padding = 'same'),\n",
    "                                    tf.keras.layers.Conv2D(128, (3,3), activation = \"relu\",padding = 'same'),\n",
    "                                    tf.keras.layers.MaxPool2D(2,2),\n",
    "                                    tf.keras.layers.Conv2D(256, (3,3), activation = \"relu\",padding = 'same'),\n",
    "                                    tf.keras.layers.Conv2D(256, (3,3), activation = \"relu\",padding = 'same'),\n",
    "                                    tf.keras.layers.MaxPool2D(2,2),\n",
    "                                    tf.keras.layers.Conv2D(512, (3,3), activation = \"relu\",padding = 'same'),\n",
    "                                    tf.keras.layers.Conv2D(512, (3,3), activation = \"relu\",padding = 'same'),\n",
    "                                    tf.keras.layers.MaxPool2D(2,2),\n",
    "                                    tf.keras.layers.Conv2D(512, (3,3), activation = \"relu\",padding = 'same'),\n",
    "                                    tf.keras.layers.Conv2D(512, (3,3), activation = \"relu\",padding = 'same'),\n",
    "                                    tf.keras.layers.MaxPool2D(2,2),\n",
    "                                    tf.keras.layers.Flatten(),\n",
    "                                    tf.keras.layers.Dense(512,activation = \"relu\"),\n",
    "                                    tf.keras.layers.Dense(512,activation = \"relu\"),\n",
    "                                    tf.keras.layers.Dense(12, activation='softmax')])      "
   ]
  },
  {
   "cell_type": "code",
   "execution_count": 10,
   "id": "9bb6241e",
   "metadata": {},
   "outputs": [],
   "source": [
    "early_stopping = tf.keras.callbacks.EarlyStopping(\n",
    "    monitor=\"val_loss\",\n",
    "    min_delta=0.0001,\n",
    "    patience=20,\n",
    "    verbose=1,\n",
    "    mode=\"auto\",\n",
    "    baseline=None,\n",
    "    restore_best_weights=False,\n",
    "    start_from_epoch=0,\n",
    ")"
   ]
  },
  {
   "cell_type": "code",
   "execution_count": 11,
   "id": "d87f0430",
   "metadata": {},
   "outputs": [
    {
     "name": "stdout",
     "output_type": "stream",
     "text": [
      "Model: \"sequential_1\"\n",
      "_________________________________________________________________\n",
      " Layer (type)                Output Shape              Param #   \n",
      "=================================================================\n",
      " conv2d_10 (Conv2D)          (None, 224, 224, 64)      1792      \n",
      "                                                                 \n",
      " conv2d_11 (Conv2D)          (None, 224, 224, 64)      36928     \n",
      "                                                                 \n",
      " max_pooling2d_5 (MaxPoolin  (None, 112, 112, 64)      0         \n",
      " g2D)                                                            \n",
      "                                                                 \n",
      " conv2d_12 (Conv2D)          (None, 112, 112, 128)     73856     \n",
      "                                                                 \n",
      " conv2d_13 (Conv2D)          (None, 112, 112, 128)     147584    \n",
      "                                                                 \n",
      " max_pooling2d_6 (MaxPoolin  (None, 56, 56, 128)       0         \n",
      " g2D)                                                            \n",
      "                                                                 \n",
      " conv2d_14 (Conv2D)          (None, 56, 56, 256)       295168    \n",
      "                                                                 \n",
      " conv2d_15 (Conv2D)          (None, 56, 56, 256)       590080    \n",
      "                                                                 \n",
      " max_pooling2d_7 (MaxPoolin  (None, 28, 28, 256)       0         \n",
      " g2D)                                                            \n",
      "                                                                 \n",
      " conv2d_16 (Conv2D)          (None, 28, 28, 512)       1180160   \n",
      "                                                                 \n",
      " conv2d_17 (Conv2D)          (None, 28, 28, 512)       2359808   \n",
      "                                                                 \n",
      " max_pooling2d_8 (MaxPoolin  (None, 14, 14, 512)       0         \n",
      " g2D)                                                            \n",
      "                                                                 \n",
      " conv2d_18 (Conv2D)          (None, 14, 14, 512)       2359808   \n",
      "                                                                 \n",
      " conv2d_19 (Conv2D)          (None, 14, 14, 512)       2359808   \n",
      "                                                                 \n",
      " max_pooling2d_9 (MaxPoolin  (None, 7, 7, 512)         0         \n",
      " g2D)                                                            \n",
      "                                                                 \n",
      " flatten_1 (Flatten)         (None, 25088)             0         \n",
      "                                                                 \n",
      " dense_3 (Dense)             (None, 512)               12845568  \n",
      "                                                                 \n",
      " dense_4 (Dense)             (None, 512)               262656    \n",
      "                                                                 \n",
      " dense_5 (Dense)             (None, 12)                6156      \n",
      "                                                                 \n",
      "=================================================================\n",
      "Total params: 22519372 (85.90 MB)\n",
      "Trainable params: 22519372 (85.90 MB)\n",
      "Non-trainable params: 0 (0.00 Byte)\n",
      "_________________________________________________________________\n"
     ]
    }
   ],
   "source": [
    "model.compile(optimizer='adam',\n",
    "              loss='categorical_crossentropy',  # For multiclass classification\n",
    "              metrics=['accuracy'])\n",
    "\n",
    "# Display the model summary\n",
    "model.summary()"
   ]
  },
  {
   "cell_type": "code",
   "execution_count": null,
   "id": "abeb8b0a",
   "metadata": {},
   "outputs": [
    {
     "name": "stdout",
     "output_type": "stream",
     "text": [
      "Epoch 1/10\n"
     ]
    },
    {
     "name": "stderr",
     "output_type": "stream",
     "text": [
      "/var/folders/v1/vsgs40891f71k785m6fzttq80000gn/T/ipykernel_17373/1600292737.py:1: UserWarning: `Model.fit_generator` is deprecated and will be removed in a future version. Please use `Model.fit`, which supports generators.\n",
      "  model.fit_generator(\n"
     ]
    },
    {
     "name": "stdout",
     "output_type": "stream",
     "text": [
      "  5/204 [..............................] - ETA: 6:32 - loss: 2.9380 - accuracy: 0.0800"
     ]
    }
   ],
   "source": [
    "model.fit_generator(\n",
    "    x,\n",
    "    callbacks = early_stopping,\n",
    "    validation_data=x_test,\n",
    "    epochs=10)"
   ]
  },
  {
   "cell_type": "code",
   "execution_count": 20,
   "id": "7d066c50",
   "metadata": {},
   "outputs": [
    {
     "name": "stderr",
     "output_type": "stream",
     "text": [
      "/Users/kshitijberi/anaconda3/lib/python3.11/site-packages/keras/src/engine/training.py:3079: UserWarning: You are saving your model as an HDF5 file via `model.save()`. This file format is considered legacy. We recommend using instead the native Keras format, e.g. `model.save('my_model.keras')`.\n",
      "  saving_api.save_model(\n"
     ]
    }
   ],
   "source": [
    "model.save('model.h5')"
   ]
  },
  {
   "cell_type": "code",
   "execution_count": 2,
   "id": "4ea534b0",
   "metadata": {},
   "outputs": [],
   "source": [
    "model = tf.keras.models.load_model('model.h5')"
   ]
  },
  {
   "cell_type": "code",
   "execution_count": 4,
   "id": "7e8ba9c7",
   "metadata": {},
   "outputs": [
    {
     "name": "stdout",
     "output_type": "stream",
     "text": [
      "1/1 [==============================] - 0s 58ms/step\n",
      "Predicted class: 0\n",
      "jeffry\n"
     ]
    }
   ],
   "source": [
    "def preprocess_image(img_path):\n",
    "    img = image.load_img(img_path, target_size=(128, 128))\n",
    "    img_array = image.img_to_array(img)\n",
    "    img_array = np.expand_dims(img_array, axis=0)\n",
    "    img_array = img_array / 255.0  # Normalize the image\n",
    "    return img_array\n",
    "\n",
    "# Function to predict using the loaded model\n",
    "def predict(image_path):\n",
    "    # Preprocess the image\n",
    "    processed_image = preprocess_image(image_path)\n",
    "\n",
    "    # Get the prediction\n",
    "    predictions = model.predict(processed_image)\n",
    "\n",
    "    # Assuming it's a classification model, get the class with the highest probability\n",
    "    predicted_class = np.argmax(predictions[0])\n",
    "\n",
    "    return predicted_class\n",
    "\n",
    "# Path to the image you want to predict\n",
    "image_path = '0acb73d9-a431-42b1-b5cc-92ce85486768.JPG'\n",
    "\n",
    "# Make predictions\n",
    "predicted_class = predict(image_path)\n",
    "\n",
    "# Print the predicted class\n",
    "print(f'Predicted class: {predicted_class}')\n",
    "if predicted_class == 0:\n",
    "    print(\"jeffry\")\n",
    "elif predicted_class == 1:\n",
    "    print(\"Adolf Hitler (20 April 1889 – 30 April 1945) was an Austrian-born German politician who was the dictator of Germany from 1933 until his suicide in 1945. He rose to power as the leader of the Nazi Party,[a] becoming the chancellor in 1933 and then taking the title of Führer und Reichskanzler in 1934.[b] During his dictatorship, he initiated World War II in Europe by invading Poland on 1 September 1939. He was closely involved in military operations throughout the war and was central to the perpetration of the Holocaust, the genocide of about six million Jews and millions of other victims.\")\n",
    "elif predicted_class == 2:\n",
    "    print(\"Imran khan\")\n",
    "elif predicted_class == 3:\n",
    "    print(\"lawerance bishnoi\")\n",
    "elif predicted_class == 4:\n",
    "    print(\"masood azhar\")\n",
    "elif predicted_class == 5:\n",
    "    print(\"mehul\")\n",
    "elif predicted_class == 6:\n",
    "    print(\"nasir\")\n",
    "elif predicted_class == 7:\n",
    "    print(\"pablo escobar\")\n",
    "elif predicted_class == 8:\n",
    "    print(\"piu\")\n",
    "elif predicted_class == 9:\n",
    "    print(\"unknown\")\n",
    "elif predicted_class == 10:\n",
    "    print(\"vijay\")\n",
    "else :\n",
    "    print(\"whitey\")"
   ]
  },
  {
   "cell_type": "code",
   "execution_count": null,
   "id": "2abc928a",
   "metadata": {},
   "outputs": [],
   "source": []
  }
 ],
 "metadata": {
  "kernelspec": {
   "display_name": "Python 3 (ipykernel)",
   "language": "python",
   "name": "python3"
  },
  "language_info": {
   "codemirror_mode": {
    "name": "ipython",
    "version": 3
   },
   "file_extension": ".py",
   "mimetype": "text/x-python",
   "name": "python",
   "nbconvert_exporter": "python",
   "pygments_lexer": "ipython3",
   "version": "3.11.5"
  }
 },
 "nbformat": 4,
 "nbformat_minor": 5
}
